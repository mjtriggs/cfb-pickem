{
 "cells": [
  {
   "cell_type": "markdown",
   "metadata": {},
   "source": [
    "### 2. Passing Leaders"
   ]
  },
  {
   "cell_type": "code",
   "execution_count": 1,
   "metadata": {},
   "outputs": [],
   "source": [
    "import requests\n",
    "from bs4 import BeautifulSoup\n",
    "import pandas as pd\n",
    "import numpy as np\n",
    "import math\n",
    "from datetime import date\n",
    "import re"
   ]
  },
  {
   "cell_type": "code",
   "execution_count": 2,
   "metadata": {},
   "outputs": [],
   "source": [
    "# CFB lines url\n",
    "espn_url = 'https://www.espn.co.uk/college-football/stats/player/_/view/offense/table/passing/sort/passingYards/dir/desc'"
   ]
  },
  {
   "cell_type": "code",
   "execution_count": 3,
   "metadata": {},
   "outputs": [],
   "source": [
    "# get raw data\n",
    "page = requests.get(espn_url)\n",
    "soup = BeautifulSoup(page.content, \"html.parser\")\n",
    "results = soup.find(id=\"fittPageContainer\") # found by inspecting html"
   ]
  },
  {
   "cell_type": "code",
   "execution_count": 5,
   "metadata": {},
   "outputs": [],
   "source": [
    "raw_output = [i.text for i in results.find_all(\"td\", class_=\"Table__TD\")]"
   ]
  },
  {
   "cell_type": "code",
   "execution_count": 7,
   "metadata": {},
   "outputs": [],
   "source": [
    "n_rows = 50\n",
    "\n",
    "# get qb names\n",
    "qbs = []\n",
    "for i in range(n_rows*2):\n",
    "    if i % 2 != 0:\n",
    "        qbs.append(raw_output[i])\n",
    "\n",
    "school = []\n",
    "qb_clean = []\n",
    "\n",
    "# split out the school from the surname of the QB\n",
    "# could probably use REGEX to improve this, but it's fine\n",
    "for qb in qbs:\n",
    "    if qb[len(qb)-4].isupper():\n",
    "        # 4 letter team abbrv\n",
    "        qb_clean.append(qb[:len(qb)-4])\n",
    "        school.append(qb[len(qb)-4:])\n",
    "    elif qb[len(qb)-3].isupper():\n",
    "        # 3 letter abbrv\n",
    "        qb_clean.append(qb[:len(qb)-3])\n",
    "        school.append(qb[len(qb)-3:])\n",
    "    else:\n",
    "        # 2 letter abbrv\n",
    "        qb_clean.append(qb[:len(qb)-2])\n",
    "        school.append(qb[len(qb)-2:])\n",
    "        \n",
    "# get other stats\n",
    "raw_stats = raw_output[n_rows*2:]\n",
    "table = pd.DataFrame(np.reshape(raw_stats, (int(len(raw_stats)/11), 11)), \n",
    "                     columns = ['POS','CMP','ATT','CMP%','YDS','AVG','LNG','TD','INT','SACK','RTG'])\n",
    "table.insert(0, 'NAME', qb_clean)\n",
    "table.insert(1, 'ABBRV', school)"
   ]
  },
  {
   "cell_type": "code",
   "execution_count": 8,
   "metadata": {
    "scrolled": true
   },
   "outputs": [
    {
     "data": {
      "text/html": [
       "<div>\n",
       "<style scoped>\n",
       "    .dataframe tbody tr th:only-of-type {\n",
       "        vertical-align: middle;\n",
       "    }\n",
       "\n",
       "    .dataframe tbody tr th {\n",
       "        vertical-align: top;\n",
       "    }\n",
       "\n",
       "    .dataframe thead th {\n",
       "        text-align: right;\n",
       "    }\n",
       "</style>\n",
       "<table border=\"1\" class=\"dataframe\">\n",
       "  <thead>\n",
       "    <tr style=\"text-align: right;\">\n",
       "      <th></th>\n",
       "      <th>NAME</th>\n",
       "      <th>ABBRV</th>\n",
       "      <th>POS</th>\n",
       "      <th>CMP</th>\n",
       "      <th>ATT</th>\n",
       "      <th>CMP%</th>\n",
       "      <th>YDS</th>\n",
       "      <th>AVG</th>\n",
       "      <th>LNG</th>\n",
       "      <th>TD</th>\n",
       "      <th>INT</th>\n",
       "      <th>SACK</th>\n",
       "      <th>RTG</th>\n",
       "    </tr>\n",
       "  </thead>\n",
       "  <tbody>\n",
       "    <tr>\n",
       "      <td>0</td>\n",
       "      <td>Jake Haener</td>\n",
       "      <td>FRES</td>\n",
       "      <td>QB</td>\n",
       "      <td>164</td>\n",
       "      <td>236</td>\n",
       "      <td>69.5</td>\n",
       "      <td>2,230</td>\n",
       "      <td>9.4</td>\n",
       "      <td>86</td>\n",
       "      <td>18</td>\n",
       "      <td>6</td>\n",
       "      <td>10</td>\n",
       "      <td>168.9</td>\n",
       "    </tr>\n",
       "    <tr>\n",
       "      <td>1</td>\n",
       "      <td>Brennan Armstrong</td>\n",
       "      <td>UVA</td>\n",
       "      <td>QB</td>\n",
       "      <td>145</td>\n",
       "      <td>224</td>\n",
       "      <td>64.7</td>\n",
       "      <td>1,973</td>\n",
       "      <td>8.8</td>\n",
       "      <td>65</td>\n",
       "      <td>14</td>\n",
       "      <td>4</td>\n",
       "      <td>13</td>\n",
       "      <td>155.8</td>\n",
       "    </tr>\n",
       "    <tr>\n",
       "      <td>2</td>\n",
       "      <td>Will Rogers</td>\n",
       "      <td>MSST</td>\n",
       "      <td>QB</td>\n",
       "      <td>215</td>\n",
       "      <td>284</td>\n",
       "      <td>75.7</td>\n",
       "      <td>1,862</td>\n",
       "      <td>6.6</td>\n",
       "      <td>41</td>\n",
       "      <td>14</td>\n",
       "      <td>2</td>\n",
       "      <td>10</td>\n",
       "      <td>145.6</td>\n",
       "    </tr>\n",
       "    <tr>\n",
       "      <td>3</td>\n",
       "      <td>Kenny Pickett</td>\n",
       "      <td>PITT</td>\n",
       "      <td>QB</td>\n",
       "      <td>121</td>\n",
       "      <td>168</td>\n",
       "      <td>72.0</td>\n",
       "      <td>1,731</td>\n",
       "      <td>10.3</td>\n",
       "      <td>67</td>\n",
       "      <td>19</td>\n",
       "      <td>1</td>\n",
       "      <td>8</td>\n",
       "      <td>194.7</td>\n",
       "    </tr>\n",
       "    <tr>\n",
       "      <td>4</td>\n",
       "      <td>Bailey Zappe</td>\n",
       "      <td>WKU</td>\n",
       "      <td>QB</td>\n",
       "      <td>133</td>\n",
       "      <td>183</td>\n",
       "      <td>72.7</td>\n",
       "      <td>1,712</td>\n",
       "      <td>9.4</td>\n",
       "      <td>73</td>\n",
       "      <td>16</td>\n",
       "      <td>2</td>\n",
       "      <td>6</td>\n",
       "      <td>177.9</td>\n",
       "    </tr>\n",
       "  </tbody>\n",
       "</table>\n",
       "</div>"
      ],
      "text/plain": [
       "                NAME ABBRV POS  CMP  ATT  CMP%    YDS   AVG LNG  TD INT SACK  \\\n",
       "0        Jake Haener  FRES  QB  164  236  69.5  2,230   9.4  86  18   6   10   \n",
       "1  Brennan Armstrong   UVA  QB  145  224  64.7  1,973   8.8  65  14   4   13   \n",
       "2        Will Rogers  MSST  QB  215  284  75.7  1,862   6.6  41  14   2   10   \n",
       "3      Kenny Pickett  PITT  QB  121  168  72.0  1,731  10.3  67  19   1    8   \n",
       "4       Bailey Zappe   WKU  QB  133  183  72.7  1,712   9.4  73  16   2    6   \n",
       "\n",
       "     RTG  \n",
       "0  168.9  \n",
       "1  155.8  \n",
       "2  145.6  \n",
       "3  194.7  \n",
       "4  177.9  "
      ]
     },
     "execution_count": 8,
     "metadata": {},
     "output_type": "execute_result"
    }
   ],
   "source": [
    "table.head()"
   ]
  },
  {
   "cell_type": "code",
   "execution_count": 24,
   "metadata": {},
   "outputs": [],
   "source": [
    "# save out as dataset\n",
    "todays_date = str(date.today())\n",
    "table.to_csv('data/'+todays_date+'-qb-records.csv', index=False)"
   ]
  }
 ],
 "metadata": {
  "kernelspec": {
   "display_name": "Python 3",
   "language": "python",
   "name": "python3"
  },
  "language_info": {
   "codemirror_mode": {
    "name": "ipython",
    "version": 3
   },
   "file_extension": ".py",
   "mimetype": "text/x-python",
   "name": "python",
   "nbconvert_exporter": "python",
   "pygments_lexer": "ipython3",
   "version": "3.7.4"
  }
 },
 "nbformat": 4,
 "nbformat_minor": 2
}
