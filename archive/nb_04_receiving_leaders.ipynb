{
 "cells": [
  {
   "cell_type": "markdown",
   "metadata": {},
   "source": [
    "### 4. Receiving Leaders"
   ]
  },
  {
   "cell_type": "code",
   "execution_count": 1,
   "metadata": {},
   "outputs": [],
   "source": [
    "import requests\n",
    "from bs4 import BeautifulSoup\n",
    "import pandas as pd\n",
    "import numpy as np\n",
    "import math\n",
    "from datetime import date\n",
    "import re"
   ]
  },
  {
   "cell_type": "code",
   "execution_count": 2,
   "metadata": {},
   "outputs": [],
   "source": [
    "# rushing url\n",
    "espn_url = 'https://www.espn.co.uk/college-football/stats/player/_/view/offense/stat/receiving'"
   ]
  },
  {
   "cell_type": "code",
   "execution_count": 3,
   "metadata": {},
   "outputs": [],
   "source": [
    "# get raw data\n",
    "page = requests.get(espn_url)\n",
    "soup = BeautifulSoup(page.content, \"html.parser\")\n",
    "results = soup.find(id=\"fittPageContainer\") # found by inspecting html"
   ]
  },
  {
   "cell_type": "code",
   "execution_count": 4,
   "metadata": {},
   "outputs": [],
   "source": [
    "raw_output = [i.text for i in results.find_all(\"td\", class_=\"Table__TD\")]"
   ]
  },
  {
   "cell_type": "code",
   "execution_count": 5,
   "metadata": {},
   "outputs": [],
   "source": [
    "n_rows = 50\n",
    "\n",
    "# get rb names\n",
    "players = []\n",
    "for i in range(n_rows*2):\n",
    "    if i % 2 != 0:\n",
    "        players.append(raw_output[i])\n",
    "\n",
    "school = []\n",
    "player_clean = []\n",
    "\n",
    "# split out the school from the surname of the QB\n",
    "# could probably use REGEX to improve this, but it's fine\n",
    "for p in players:\n",
    "    if p[len(p)-4].isupper():\n",
    "        # 4 letter team abbrv\n",
    "        player_clean.append(p[:len(p)-4])\n",
    "        school.append(p[len(p)-4:])\n",
    "    elif p[len(p)-3].isupper():\n",
    "        # 3 letter abbrv\n",
    "        player_clean.append(p[:len(p)-3])\n",
    "        school.append(p[len(p)-3:])\n",
    "    else:\n",
    "        # 2 letter abbrv\n",
    "        player_clean.append(p[:len(p)-2])\n",
    "        school.append(p[len(p)-2:])\n",
    "        \n",
    "# get other stats\n",
    "raw_stats = raw_output[n_rows*2:]\n",
    "table = pd.DataFrame(np.reshape(raw_stats, (int(len(raw_stats)/6), 6)), \n",
    "                     columns = ['POS','REC','YDS','AVG','LNG','TD'])\n",
    "table.insert(0, 'NAME', player_clean)\n",
    "table.insert(1, 'ABBRV', school)"
   ]
  },
  {
   "cell_type": "code",
   "execution_count": 6,
   "metadata": {
    "scrolled": true
   },
   "outputs": [
    {
     "data": {
      "text/html": [
       "<div>\n",
       "<style scoped>\n",
       "    .dataframe tbody tr th:only-of-type {\n",
       "        vertical-align: middle;\n",
       "    }\n",
       "\n",
       "    .dataframe tbody tr th {\n",
       "        vertical-align: top;\n",
       "    }\n",
       "\n",
       "    .dataframe thead th {\n",
       "        text-align: right;\n",
       "    }\n",
       "</style>\n",
       "<table border=\"1\" class=\"dataframe\">\n",
       "  <thead>\n",
       "    <tr style=\"text-align: right;\">\n",
       "      <th></th>\n",
       "      <th>NAME</th>\n",
       "      <th>ABBRV</th>\n",
       "      <th>POS</th>\n",
       "      <th>REC</th>\n",
       "      <th>YDS</th>\n",
       "      <th>AVG</th>\n",
       "      <th>LNG</th>\n",
       "      <th>TD</th>\n",
       "    </tr>\n",
       "  </thead>\n",
       "  <tbody>\n",
       "    <tr>\n",
       "      <td>0</td>\n",
       "      <td>Deven Thompkins</td>\n",
       "      <td>USU</td>\n",
       "      <td>WR</td>\n",
       "      <td>38</td>\n",
       "      <td>639</td>\n",
       "      <td>16.8</td>\n",
       "      <td>75</td>\n",
       "      <td>4</td>\n",
       "    </tr>\n",
       "    <tr>\n",
       "      <td>1</td>\n",
       "      <td>Drake London</td>\n",
       "      <td>USC</td>\n",
       "      <td>WR</td>\n",
       "      <td>39</td>\n",
       "      <td>540</td>\n",
       "      <td>13.8</td>\n",
       "      <td>39</td>\n",
       "      <td>3</td>\n",
       "    </tr>\n",
       "    <tr>\n",
       "      <td>2</td>\n",
       "      <td>Dontayvion Wicks</td>\n",
       "      <td>UVA</td>\n",
       "      <td>WR</td>\n",
       "      <td>24</td>\n",
       "      <td>535</td>\n",
       "      <td>22.3</td>\n",
       "      <td>49</td>\n",
       "      <td>5</td>\n",
       "    </tr>\n",
       "    <tr>\n",
       "      <td>3</td>\n",
       "      <td>Calvin Austin II</td>\n",
       "      <td>IMEM</td>\n",
       "      <td>WR</td>\n",
       "      <td>27</td>\n",
       "      <td>533</td>\n",
       "      <td>19.7</td>\n",
       "      <td>75</td>\n",
       "      <td>7</td>\n",
       "    </tr>\n",
       "    <tr>\n",
       "      <td>4</td>\n",
       "      <td>Dontay Demus Jr.</td>\n",
       "      <td>MD</td>\n",
       "      <td>WR</td>\n",
       "      <td>28</td>\n",
       "      <td>507</td>\n",
       "      <td>18.1</td>\n",
       "      <td>66</td>\n",
       "      <td>3</td>\n",
       "    </tr>\n",
       "  </tbody>\n",
       "</table>\n",
       "</div>"
      ],
      "text/plain": [
       "               NAME ABBRV POS REC  YDS   AVG LNG TD\n",
       "0   Deven Thompkins   USU  WR  38  639  16.8  75  4\n",
       "1      Drake London   USC  WR  39  540  13.8  39  3\n",
       "2  Dontayvion Wicks   UVA  WR  24  535  22.3  49  5\n",
       "3  Calvin Austin II  IMEM  WR  27  533  19.7  75  7\n",
       "4  Dontay Demus Jr.    MD  WR  28  507  18.1  66  3"
      ]
     },
     "execution_count": 6,
     "metadata": {},
     "output_type": "execute_result"
    }
   ],
   "source": [
    "table.head()"
   ]
  },
  {
   "cell_type": "code",
   "execution_count": 7,
   "metadata": {},
   "outputs": [],
   "source": [
    "# save out as dataset\n",
    "todays_date = str(date.today())\n",
    "table.to_csv('data/'+todays_date+'-wr-records.csv', index=False)"
   ]
  }
 ],
 "metadata": {
  "kernelspec": {
   "display_name": "Python 3",
   "language": "python",
   "name": "python3"
  },
  "language_info": {
   "codemirror_mode": {
    "name": "ipython",
    "version": 3
   },
   "file_extension": ".py",
   "mimetype": "text/x-python",
   "name": "python",
   "nbconvert_exporter": "python",
   "pygments_lexer": "ipython3",
   "version": "3.7.4"
  }
 },
 "nbformat": 4,
 "nbformat_minor": 2
}
