{
 "cells": [
  {
   "cell_type": "markdown",
   "metadata": {},
   "source": [
    "### 3. Rushing Leaders"
   ]
  },
  {
   "cell_type": "code",
   "execution_count": 1,
   "metadata": {},
   "outputs": [],
   "source": [
    "import requests\n",
    "from bs4 import BeautifulSoup\n",
    "import pandas as pd\n",
    "import numpy as np\n",
    "import math\n",
    "from datetime import date\n",
    "import re"
   ]
  },
  {
   "cell_type": "code",
   "execution_count": 2,
   "metadata": {},
   "outputs": [],
   "source": [
    "# rushing url\n",
    "espn_url = 'https://www.espn.co.uk/college-football/stats/player/_/view/offense/stat/rushing/table/rushing/sort/rushingYards/dir/desc'"
   ]
  },
  {
   "cell_type": "code",
   "execution_count": 3,
   "metadata": {},
   "outputs": [],
   "source": [
    "# get raw data\n",
    "page = requests.get(espn_url)\n",
    "soup = BeautifulSoup(page.content, \"html.parser\")\n",
    "results = soup.find(id=\"fittPageContainer\") # found by inspecting html"
   ]
  },
  {
   "cell_type": "code",
   "execution_count": 4,
   "metadata": {},
   "outputs": [],
   "source": [
    "raw_output = [i.text for i in results.find_all(\"td\", class_=\"Table__TD\")]"
   ]
  },
  {
   "cell_type": "code",
   "execution_count": 5,
   "metadata": {},
   "outputs": [],
   "source": [
    "n_rows = 50\n",
    "\n",
    "# get rb names\n",
    "players = []\n",
    "for i in range(n_rows*2):\n",
    "    if i % 2 != 0:\n",
    "        players.append(raw_output[i])\n",
    "\n",
    "school = []\n",
    "player_clean = []\n",
    "\n",
    "# split out the school from the surname of the QB\n",
    "# could probably use REGEX to improve this, but it's fine\n",
    "for p in players:\n",
    "    if p[len(p)-4].isupper():\n",
    "        # 4 letter team abbrv\n",
    "        player_clean.append(p[:len(p)-4])\n",
    "        school.append(p[len(p)-4:])\n",
    "    elif p[len(p)-3].isupper():\n",
    "        # 3 letter abbrv\n",
    "        player_clean.append(p[:len(p)-3])\n",
    "        school.append(p[len(p)-3:])\n",
    "    else:\n",
    "        # 2 letter abbrv\n",
    "        player_clean.append(p[:len(p)-2])\n",
    "        school.append(p[len(p)-2:])\n",
    "        \n",
    "# get other stats\n",
    "raw_stats = raw_output[n_rows*2:]\n",
    "table = pd.DataFrame(np.reshape(raw_stats, (int(len(raw_stats)/6), 6)), \n",
    "                     columns = ['POS','ATT','YDS','AVG','LNG','TD'])\n",
    "table.insert(0, 'NAME', player_clean)\n",
    "table.insert(1, 'ABBRV', school)"
   ]
  },
  {
   "cell_type": "code",
   "execution_count": 6,
   "metadata": {
    "scrolled": true
   },
   "outputs": [
    {
     "data": {
      "text/html": [
       "<div>\n",
       "<style scoped>\n",
       "    .dataframe tbody tr th:only-of-type {\n",
       "        vertical-align: middle;\n",
       "    }\n",
       "\n",
       "    .dataframe tbody tr th {\n",
       "        vertical-align: top;\n",
       "    }\n",
       "\n",
       "    .dataframe thead th {\n",
       "        text-align: right;\n",
       "    }\n",
       "</style>\n",
       "<table border=\"1\" class=\"dataframe\">\n",
       "  <thead>\n",
       "    <tr style=\"text-align: right;\">\n",
       "      <th></th>\n",
       "      <th>NAME</th>\n",
       "      <th>ABBRV</th>\n",
       "      <th>POS</th>\n",
       "      <th>ATT</th>\n",
       "      <th>YDS</th>\n",
       "      <th>AVG</th>\n",
       "      <th>LNG</th>\n",
       "      <th>TD</th>\n",
       "    </tr>\n",
       "  </thead>\n",
       "  <tbody>\n",
       "    <tr>\n",
       "      <td>0</td>\n",
       "      <td>Tyler Allgeier</td>\n",
       "      <td>BYU</td>\n",
       "      <td>RB</td>\n",
       "      <td>102</td>\n",
       "      <td>569</td>\n",
       "      <td>5.6</td>\n",
       "      <td>67</td>\n",
       "      <td>7</td>\n",
       "    </tr>\n",
       "    <tr>\n",
       "      <td>1</td>\n",
       "      <td>Kenneth Walker II</td>\n",
       "      <td>IMSU</td>\n",
       "      <td>RB</td>\n",
       "      <td>76</td>\n",
       "      <td>554</td>\n",
       "      <td>7.3</td>\n",
       "      <td>75</td>\n",
       "      <td>5</td>\n",
       "    </tr>\n",
       "    <tr>\n",
       "      <td>2</td>\n",
       "      <td>Sean Tucker</td>\n",
       "      <td>SYR</td>\n",
       "      <td>RB</td>\n",
       "      <td>83</td>\n",
       "      <td>536</td>\n",
       "      <td>6.5</td>\n",
       "      <td>56</td>\n",
       "      <td>7</td>\n",
       "    </tr>\n",
       "    <tr>\n",
       "      <td>3</td>\n",
       "      <td>Mataeo Durant</td>\n",
       "      <td>DUKE</td>\n",
       "      <td>RB</td>\n",
       "      <td>87</td>\n",
       "      <td>522</td>\n",
       "      <td>6.0</td>\n",
       "      <td>59</td>\n",
       "      <td>8</td>\n",
       "    </tr>\n",
       "    <tr>\n",
       "      <td>4</td>\n",
       "      <td>DeAndre Torrey</td>\n",
       "      <td>UNT</td>\n",
       "      <td>RB</td>\n",
       "      <td>91</td>\n",
       "      <td>516</td>\n",
       "      <td>5.7</td>\n",
       "      <td>32</td>\n",
       "      <td>4</td>\n",
       "    </tr>\n",
       "  </tbody>\n",
       "</table>\n",
       "</div>"
      ],
      "text/plain": [
       "                NAME ABBRV POS  ATT  YDS  AVG LNG TD\n",
       "0     Tyler Allgeier   BYU  RB  102  569  5.6  67  7\n",
       "1  Kenneth Walker II  IMSU  RB   76  554  7.3  75  5\n",
       "2        Sean Tucker   SYR  RB   83  536  6.5  56  7\n",
       "3      Mataeo Durant  DUKE  RB   87  522  6.0  59  8\n",
       "4     DeAndre Torrey   UNT  RB   91  516  5.7  32  4"
      ]
     },
     "execution_count": 6,
     "metadata": {},
     "output_type": "execute_result"
    }
   ],
   "source": [
    "table.head()"
   ]
  },
  {
   "cell_type": "code",
   "execution_count": 7,
   "metadata": {},
   "outputs": [],
   "source": [
    "# save out as dataset\n",
    "todays_date = str(date.today())\n",
    "table.to_csv('data/'+todays_date+'-rb-records.csv', index=False)"
   ]
  }
 ],
 "metadata": {
  "kernelspec": {
   "display_name": "Python 3",
   "language": "python",
   "name": "python3"
  },
  "language_info": {
   "codemirror_mode": {
    "name": "ipython",
    "version": 3
   },
   "file_extension": ".py",
   "mimetype": "text/x-python",
   "name": "python",
   "nbconvert_exporter": "python",
   "pygments_lexer": "ipython3",
   "version": "3.7.4"
  }
 },
 "nbformat": 4,
 "nbformat_minor": 2
}
